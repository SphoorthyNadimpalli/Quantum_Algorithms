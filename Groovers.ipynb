{
 "cells": [
  {
   "cell_type": "code",
   "execution_count": 1,
   "id": "b7a88890-ff99-454b-9b8c-daf4998fd048",
   "metadata": {},
   "outputs": [],
   "source": [
    "import numpy as np\n",
    "import itertools\n",
    "import csv\n",
    "import random\n",
    "from qiskit import *\n",
    "import math as m\n",
    "from qiskit.quantum_info import Statevector\n",
    "from qiskit.circuit.library import MCPhaseGate\n",
    "from qiskit.visualization import plot_histogram"
   ]
  },
  {
   "cell_type": "code",
   "execution_count": 2,
   "id": "0fb949e0-3fd9-4b8d-acdd-1413e6d09156",
   "metadata": {},
   "outputs": [],
   "source": [
    "# The item to search for \n",
    "s=[\"0101100010\"]\n",
    "label1=s[0]\n",
    "\n",
    "#number of qubits \n",
    "n=len(label1)\n",
    "\n",
    "#selecting backend\n",
    "backend=Aer.get_backend('aer_simulator')"
   ]
  },
  {
   "cell_type": "code",
   "execution_count": 4,
   "id": "a2af20bf-e11f-479e-ae4f-6da306708319",
   "metadata": {},
   "outputs": [
    {
     "name": "stdout",
     "output_type": "stream",
     "text": [
      " enter 1- input probability\n",
      "\n",
      "enter 2- input number of iterations\n"
     ]
    },
    {
     "name": "stdin",
     "output_type": "stream",
     "text": [
      " 633\n"
     ]
    },
    {
     "name": "stdout",
     "output_type": "stream",
     "text": [
      "enter no.iterations\n"
     ]
    },
    {
     "name": "stdin",
     "output_type": "stream",
     "text": [
      " 633\n"
     ]
    },
    {
     "name": "stdout",
     "output_type": "stream",
     "text": [
      "the success probability for the number of iterations is 0.8928458407290917\n"
     ]
    }
   ],
   "source": [
    "# parametarizabile according to probability or iterations\n",
    "print(\" enter 1- input probability\\n\")\n",
    "print(\"enter 2- input number of iterations\")\n",
    "inp=int(input())\n",
    "\n",
    "#input probability and output iterations\n",
    "if inp==1:\n",
    "    print(\"enter probability\") \n",
    "    prob=float(input())\n",
    "    it=((np.arcsin(m.sqrt(prob))/np.arcsin(1/2**n))-1)/2\n",
    "    iterations=m.floor(it)\n",
    "    print(\"number of iterations required are: \"+str(iterations))\n",
    "    \n",
    "#input interations and output probability\n",
    "else:\n",
    "    print(\"enter no.iterations\")\n",
    "    iterations=int(input())\n",
    "    prob=m.sin((2*iterations+1)*np.arcsin(1/2**n))**2\n",
    "    print(\"the success probability for the number of iterations is \"+str(prob))\n",
    "\n",
    "#number of iterations should be odd for the state of system to be more towads the winner\n",
    "itr=iterations\n",
    "if itr%2==0:\n",
    "    itr=itr-1\n",
    "#print(itr)"
   ]
  },
  {
   "cell_type": "code",
   "execution_count": 5,
   "id": "3b938697-fffc-40ba-b6bc-74768249e7aa",
   "metadata": {},
   "outputs": [],
   "source": [
    "#Initializing a quantum circuit\n",
    "q=QuantumRegister(n,'q')\n",
    "#c=ClassicalRegister(n,'c')\n",
    "qcs=QuantumCircuit(q)\n",
    "\n",
    "\n",
    "# Step 1: Applying hadamard gates\n",
    "for i in range(n):\n",
    "    qcs.h(i)\n",
    "    \n",
    "# Step 2: Oracle reflection\n",
    "#construction of oracle\n",
    "U=np.identity(2**n)\n",
    "q_num=int(label1,2)\n",
    "U[q_num,q_num]=-1 \n",
    "diag=list(np.diagonal(U))\n",
    "qcs.diagonal(diag,q)\n",
    "#qcs.draw()\n",
    "\n",
    "for j in range(itr):\n",
    "#step 3: Diffusion matrix \n",
    "\n",
    "    # Apply hadamard gate \n",
    "    for i in range(n):\n",
    "        qcs.h(i)\n",
    "    \n",
    "    # Apply X gates  \n",
    "    for i in range(n):\n",
    "        qcs.x(i)\n",
    "    #Constructing a multi-controlled Z gate\n",
    "    \n",
    "    # Apply a hadamard gate on target qubit \n",
    "    qcs.h(n-1)\n",
    "    # muti-controlled tofollili gate\n",
    "    qcs.mct(list(range(n-1)),n-1)\n",
    "    # Apply a hadamard on target qubit\n",
    "    qcs.h(n-1)\n",
    "    \n",
    "    #Identity gates for gates to be in proper time frame\n",
    "    for i in range(n-1):\n",
    "        qcs.id(i)\n",
    "    #Applying X gate\n",
    "    for i in range(n):\n",
    "        qcs.x(i)\n",
    "    #Applying H gates\n",
    "    for i in range(n):\n",
    "        qcs.h(i)\n",
    "        \n",
    "#finally measure\n",
    "qcs.measure_all()"
   ]
  },
  {
   "cell_type": "code",
   "execution_count": 6,
   "id": "57096918-1c92-4c06-9311-94099f10842d",
   "metadata": {},
   "outputs": [],
   "source": [
    "# getting the job to run on a simulator \n",
    "job=backend.run(assemble(qcs))\n",
    "counts=job.result().get_counts()\n",
    "plot_histogram(counts)\n",
    "mk=max(counts,key=counts.get)"
   ]
  },
  {
   "cell_type": "code",
   "execution_count": 7,
   "id": "691020d1-1efc-4a53-9839-2a46adc0f862",
   "metadata": {},
   "outputs": [
    {
     "name": "stdout",
     "output_type": "stream",
     "text": [
      "1101110100 0111110011\n"
     ]
    }
   ],
   "source": [
    "#verifying if the Grover's has been implemented\n",
    "print(mk)\n",
    "if mk==label1:\n",
    "    print(\"Element found\")"
   ]
  },
  {
   "cell_type": "code",
   "execution_count": null,
   "id": "f1854531-16c3-4bfe-90da-a60485e3507e",
   "metadata": {},
   "outputs": [],
   "source": []
  }
 ],
 "metadata": {
  "kernelspec": {
   "display_name": "Qiskit v0.34.1 (ipykernel)",
   "language": "python",
   "name": "python3"
  },
  "language_info": {
   "codemirror_mode": {
    "name": "ipython",
    "version": 3
   },
   "file_extension": ".py",
   "mimetype": "text/x-python",
   "name": "python",
   "nbconvert_exporter": "python",
   "pygments_lexer": "ipython3",
   "version": "3.8.12"
  },
  "widgets": {
   "application/vnd.jupyter.widget-state+json": {
    "state": {},
    "version_major": 2,
    "version_minor": 0
   }
  }
 },
 "nbformat": 4,
 "nbformat_minor": 5
}
